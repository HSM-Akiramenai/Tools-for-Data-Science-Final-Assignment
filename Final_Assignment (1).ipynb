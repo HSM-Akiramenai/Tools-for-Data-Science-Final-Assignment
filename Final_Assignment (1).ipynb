{
 "cells": [
  {
   "cell_type": "markdown",
   "id": "1278947a-e772-4804-821a-4384565abbd5",
   "metadata": {},
   "source": [
    "# My Jupyter Notebook on IBM Watson Studio"
   ]
  },
  {
   "cell_type": "markdown",
   "id": "6aab6bf2-6362-40e8-96ed-69a4b70d0e0d",
   "metadata": {},
   "source": [
    "**Haider Sultan**  \n",
    "Trainee Web 3.0 Developer"
   ]
  },
  {
   "cell_type": "markdown",
   "id": "e3f327db-bf05-4c11-8b1e-804ae614b98f",
   "metadata": {},
   "source": [
    "*Data Science is a rapidly growing field that combines statistical analysis, machine learning, and domain expertise to extract insights from data. It is used in a wide range of industries to make informed decisions and improve business outcomes. As a computer science graduate with an interest in health, sports, and fitness, data science could be a valuable skill to help you analyze and understand data related to those areas. Additionally, Data Science provides a lot of opportunities for career advancement, so it can be a valuable asset for my career as a web developer.*"
   ]
  },
  {
   "cell_type": "markdown",
   "id": "a848b094-7990-4766-98e2-369b0faadedd",
   "metadata": {},
   "source": [
    "### This code prints the array test_list"
   ]
  },
  {
   "cell_type": "code",
   "execution_count": null,
   "id": "900a4cad-8e91-4340-9d5f-95cc6f630e39",
   "metadata": {},
   "outputs": [],
   "source": [
    "test_list = [1, 2, 3, 4]\n",
    "\n",
    "for i in range(len(test_list)):\n",
    "    print(test_list[i])"
   ]
  },
  {
   "cell_type": "markdown",
   "id": "b9b1b270-bb67-4c10-a576-f30a08e3efb2",
   "metadata": {},
   "source": [
    "---\n",
    "1. Horizontal Rule:  \n",
    "- Helps to separate sections of content visually, making it easier for the reader to scan and understand the structure of the page.  \n",
    "- Can be used as a styling element to add visual interest to the page.  \n",
    "2. Bulleted List:  \n",
    "- Helps to organize content in an easy-to-scan format, making it easier for the reader to quickly understand the main points of the information.  \n",
    "- Can be used to create a list of items that are related, but not necessarily in a specific order.  \n",
    "3. Numbered List:  \n",
    "- Helps to organize content in a logical, sequential order, making it easy for the reader to follow a series of steps or instructions.  \n",
    "- Can be used to highlight a list of items that are in a specific order of importance or relevance.  \n",
    "4. Tables:  \n",
    "| Header 1 | Header 2 |\n",
    "| -------- | -------- |\n",
    "| Entry 1  | Entry 2  |\n",
    "| Entry 3  | Entry 4  |  \n",
    "- Helps to organize and present data in a clear and concise manner, making it easy for the reader to compare and understand the information.  \n",
    "- Can be used to present data that has multiple categories or dimensions.  \n",
    "5. [Hyperlinks](https://images.unsplash.com/photo-1615751072497-5f5169febe17?ixlib=rb-4.0.3&ixid=MnwxMjA3fDB8MHxwaG90by1wYWdlfHx8fGVufDB8fHx8&auto=format&fit=crop&w=735&q=80):  \n",
    "- Enables easy navigation between related content, making it convenient for the reader to access additional information.  \n",
    "- Can be used to cite sources or provide additional context for the information presented in the content.  \n",
    "6. Code/Syntax Highlighting:  \n",
    "```html \n",
    "<html>  \n",
    "  <head>  \n",
    "  </head>  \n",
    "  <body>  \n",
    "      <ul>  \n",
    "          <li>  \n",
    "              Helps to make code snippets more readable, making it easier for the reader to understand the programming concepts.  \n",
    "          </li>  \n",
    "          <li>  \n",
    "              Can be used to draw attention to specific lines of code that are important for the reader to understand.  \n",
    "          </li>  \n",
    "      </ul>  \n",
    "  </body>  \n",
    "</html>  \n",
    "```  \n",
    "7. Blocked quotes:  \n",
    "> Helps to set apart quoted text, making it clear to the reader that the text is being cited from another source.    \n",
    "> Can be used to emphasize or highlight a specific passage of text.  \n",
    "8. Strikethrough:   \n",
    "~~Can be used to indicate that certain text has been removed or is no longer relevant.~~  \n",
    "~~Can also be used to indicate that certain text is incorrect or has been corrected.~~  \n",
    "\n",
    "---"
   ]
  }
 ],
 "metadata": {
  "kernelspec": {
   "display_name": "Python",
   "language": "python",
   "name": "conda-env-python-py"
  },
  "language_info": {
   "codemirror_mode": {
    "name": "ipython",
    "version": 3
   },
   "file_extension": ".py",
   "mimetype": "text/x-python",
   "name": "python",
   "nbconvert_exporter": "python",
   "pygments_lexer": "ipython3",
   "version": "3.7.12"
  }
 },
 "nbformat": 4,
 "nbformat_minor": 5
}
