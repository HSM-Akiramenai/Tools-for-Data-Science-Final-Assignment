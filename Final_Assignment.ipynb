{
 "cells": [
  {
   "cell_type": "markdown",
   "id": "3ad6073a-e7ed-4eb6-892f-b52fa2a57a49",
   "metadata": {},
   "source": [
    "# My Jupyter Notebook on IBM Watson Studio"
   ]
  },
  {
   "cell_type": "markdown",
   "id": "952431fa-c9e4-4558-a412-d2229668d3dc",
   "metadata": {},
   "source": [
    "**Haider Sultan**  \n",
    "Trainee Web 3.0 Developer"
   ]
  },
  {
   "cell_type": "markdown",
   "id": "dc342edc-bfcd-4e3f-98ed-ff9f3fc8007f",
   "metadata": {},
   "source": [
    "*Data Science is a rapidly growing field that combines statistical analysis, machine learning, and domain expertise to extract insights from data. It is used in a wide range of industries to make informed decisions and improve business outcomes. As a computer science graduate with an interest in health, sports, and fitness, data science could be a valuable skill to help you analyze and understand data related to those areas. Additionally, Data Science provides a lot of opportunities for career advancement, so it can be a valuable asset for my career as a web developer.*"
   ]
  },
  {
   "cell_type": "markdown",
   "id": "e1695b6f-cb47-434d-9335-fa33c96bc79b",
   "metadata": {},
   "source": [
    "### This code prints numbers from 1-10"
   ]
  },
  {
   "cell_type": "code",
   "execution_count": null,
   "id": "dee735b6-50ae-4a30-9e1c-fdfbd1d80652",
   "metadata": {},
   "outputs": [],
   "source": [
    "for i in range(1, 11):\n",
    "    print(i)"
   ]
  },
  {
   "cell_type": "markdown",
   "id": "d92326b1-37d6-4198-bcbe-7f110ff87ef3",
   "metadata": {},
   "source": [
    "---\n",
    "1. Horizontal Rule:  \n",
    "- Helps to separate sections of content visually, making it easier for the reader to scan and understand the structure of the page.  \n",
    "- Can be used as a styling element to add visual interest to the page.  \n",
    "2. Bulleted List:  \n",
    "- Helps to organize content in an easy-to-scan format, making it easier for the reader to quickly understand the main points of the information.  \n",
    "- Can be used to create a list of items that are related, but not necessarily in a specific order.  \n",
    "3. Numbered List:  \n",
    "- Helps to organize content in a logical, sequential order, making it easy for the reader to follow a series of steps or instructions.  \n",
    "- Can be used to highlight a list of items that are in a specific order of importance or relevance.  \n",
    "4. Tables:  \n",
    "| Header 1 | Header 2 |\n",
    "| -------- | -------- |\n",
    "| Entry 1  | Entry 2  |\n",
    "| Entry 3  | Entry 4  |  \n",
    "- Helps to organize and present data in a clear and concise manner, making it easy for the reader to compare and understand the information.  \n",
    "- Can be used to present data that has multiple categories or dimensions.  \n",
    "5. [Hyperlinks](https://images.unsplash.com/photo-1615751072497-5f5169febe17?ixlib=rb-4.0.3&ixid=MnwxMjA3fDB8MHxwaG90by1wYWdlfHx8fGVufDB8fHx8&auto=format&fit=crop&w=735&q=80):  \n",
    "- Enables easy navigation between related content, making it convenient for the reader to access additional information.  \n",
    "- Can be used to cite sources or provide additional context for the information presented in the content.  \n",
    "6. Code/Syntax Highlighting:  \n",
    "```  \n",
    "<html>  \n",
    "  <head>  \n",
    "  </head>  \n",
    "  <body>  \n",
    "      <ul>  \n",
    "          <li>  \n",
    "              Helps to make code snippets more readable, making it easier for the reader to understand the programming concepts.  \n",
    "          </li>  \n",
    "          <li>  \n",
    "              Can be used to draw attention to specific lines of code that are important for the reader to understand.  \n",
    "          </li>  \n",
    "      </ul>  \n",
    "  </body>  \n",
    "</html>  \n",
    "```  \n",
    "7. Blocked quotes:  \n",
    "> Helps to set apart quoted text, making it clear to the reader that the text is being cited from another source.    \n",
    "> Can be used to emphasize or highlight a specific passage of text.  \n",
    "8. Strikethrough:   \n",
    "~~Can be used to indicate that certain text has been removed or is no longer relevant.~~  \n",
    "~~Can also be used to indicate that certain text is incorrect or has been corrected.~~  \n",
    "\n",
    "---"
   ]
  }
 ],
 "metadata": {
  "kernelspec": {
   "display_name": "Python",
   "language": "python",
   "name": "conda-env-python-py"
  },
  "language_info": {
   "codemirror_mode": {
    "name": "ipython",
    "version": 3
   },
   "file_extension": ".py",
   "mimetype": "text/x-python",
   "name": "python",
   "nbconvert_exporter": "python",
   "pygments_lexer": "ipython3",
   "version": "3.7.12"
  }
 },
 "nbformat": 4,
 "nbformat_minor": 5
}
